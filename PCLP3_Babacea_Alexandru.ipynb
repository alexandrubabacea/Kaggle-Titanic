{
  "cells": [
    {
      "cell_type": "markdown",
      "metadata": {
        "id": "5_xBAUcUXS8f"
      },
      "source": [
        "**Cerinta 1:** Folositi interquartile range pentru a identifica si elimina outlier-ele. O valoare\n",
        "este considerată outlier dacă este mai mică decât Q1 - 1.5IQR sau mai mare decât Q3 + 1.5IQR,\n",
        "unde Q1 si Q3 sunt primul si al treilea percentile, iar IQR este diferent, a dintre Q3 si Q1. Dacă\n",
        "luăm de exemplu variabila \"age\" din setul de date Titanic, putem calcula Q1 si Q3, apoi IQR.\n",
        "Valorile care sunt în afara intervalului Q1 - 1.5IQR si Q3 + 1.5IQR pot fi considerate outlier-e\n",
        "si eliminate."
      ]
    },
    {
      "cell_type": "code",
      "execution_count": null,
      "metadata": {
        "id": "RV1mg4JGcMbu"
      },
      "outputs": [],
      "source": [
        "def iqr(df):\n",
        "  ############################################\n",
        "              # Outlieri varsta #\n",
        "  ############################################\n",
        "\n",
        "  # calculeaza primul percentile\n",
        "  ageQ1 = np.percentile(df['Age'], 25)\n",
        "  # calculeaza al treilea percentile\n",
        "  ageQ3 = np.percentile(df['Age'], 75)\n",
        "  # interquartile range\n",
        "  ageIQR = ageQ3 - ageQ1\n",
        "\n",
        "  # valoarea sub care se afla outlieri\n",
        "  ageMinValue = ageQ1 - 1.5*ageIQR\n",
        "  # valoarea peste care se afla outlieri\n",
        "  ageMaxValue = ageQ3 + 1.5*ageIQR\n",
        "\n",
        "  # eliminare outlieri\n",
        "  df_age_iqr = df[(df['Age'] >= ageMinValue) & (df['Age'] <= ageMaxValue)]\n",
        "\n",
        "  df_age_iqr.reset_index(drop=True, inplace=True)\n",
        "\n",
        "  ############################################\n",
        "              # Outlieri pret #\n",
        "  ############################################\n",
        "\n",
        "  # calculeaza primul percentile\n",
        "  fareQ1 = np.percentile(df['Fare'], 25)\n",
        "  # calculeaza al treilea percentile\n",
        "  fareQ3 = np.percentile(df['Fare'], 75)\n",
        "  # interquartile range\n",
        "  fareIQR = fareQ3 - fareQ1\n",
        "\n",
        "  # valoarea sub care se afla outlieri\n",
        "  fareMinValue = fareQ1 - 1.5*fareIQR\n",
        "  # valoarea peste care se afla outlieri\n",
        "  fareMaxValue = fareQ3 + 1.5*fareIQR\n",
        "\n",
        "  # eliminare outlieri\n",
        "  df_fare_iqr = df_age_iqr[(df_age_iqr['Fare'] >= fareMinValue) & (df_age_iqr['Fare'] <= fareMaxValue)]\n",
        "\n",
        "  df_fare_iqr.reset_index(drop=True, inplace=True)\n",
        "\n",
        "  return df_fare_iqr"
      ]
    },
    {
      "cell_type": "markdown",
      "metadata": {
        "id": "dE1VXXqXk0Aq"
      },
      "source": [
        "**Cerinta 2:** Calculati Z-score pentru fiecare observatie si eliminati valorile care au un Z-score\n",
        "absolut mai mare decât un anumit prag (de exemplu, 3 sau 4). Z-score reprezintă numărul de\n",
        "deviatii standard fata de media setului de date. Pentru aceeasi variabilă \"age\", putem calcula Z-score pentru fiecare vârstă si să eliminăm valorile care au un Z-score mai mare de, să zicem, 3. Valorile cu un Z-score mai mare de 3 ar putea fi considerate outlier-e."
      ]
    },
    {
      "cell_type": "code",
      "execution_count": null,
      "metadata": {
        "id": "LLP8ua8qkzjR"
      },
      "outputs": [],
      "source": [
        "def z_score(df):\n",
        "  ############################################\n",
        "              # Outlieri varsta #\n",
        "  ############################################\n",
        "\n",
        "  age_zscores = stats.zscore(df['Age'])\n",
        "\n",
        "  # cel mai asemanator cu iqr este pt 1.9\n",
        "  df_age_zscore = df[abs(age_zscores) <= 1.9]\n",
        "\n",
        "  df_age_zscore.reset_index(drop=True, inplace=True)\n",
        "\n",
        "  ############################################\n",
        "              # Outlieri pret #\n",
        "  ############################################\n",
        "\n",
        "  fare_zscores = stats.zscore(df_age_zscore['Fare'])\n",
        "\n",
        "  # cel mai asemanator cu iqr este pt 0.7\n",
        "  df_fare_zscore = df_age_zscore[abs(fare_zscores) <= 0.7]\n",
        "\n",
        "  df_fare_zscore.reset_index(drop=True, inplace=True)\n",
        "\n",
        "  return df_fare_zscore"
      ]
    },
    {
      "cell_type": "markdown",
      "metadata": {
        "id": "yh17PiVZn7lD"
      },
      "source": [
        "**Cerinta 4:** Dezvoltarea unui model de clasificare pentru prezicerea sanselor de supravietuire."
      ]
    },
    {
      "cell_type": "markdown",
      "metadata": {
        "id": "PL1zOHLJtswF"
      },
      "source": [
        "Preprocesarea datelor: încărcarea datelor (pandas), înlăturarea valorilor lipsă (ex: medie),\n",
        "convertirea coloanele categorice (ex: Sex, Embarked) în valori numerice, normalizarea caracteristicilor numerice."
      ]
    },
    {
      "cell_type": "markdown",
      "metadata": {
        "id": "PXTtm8c8oXR-"
      },
      "source": [
        "Protocolul de testare: Împărtiti setul de date în două componente: 80% pentru antrenare\n",
        "si 20% pentru validare."
      ]
    },
    {
      "cell_type": "markdown",
      "metadata": {
        "id": "cNFtlZNLv9Ve"
      },
      "source": [
        "Antrenare model: alegerea unui algoritm (Decision-Tree, Random Forest, etc.), antrenare\n",
        "pe setul de date de antrenament"
      ]
    },
    {
      "cell_type": "code",
      "execution_count": 202,
      "metadata": {
        "colab": {
          "base_uri": "https://localhost:8080/"
        },
        "id": "4wGuKPWlt0YH",
        "outputId": "02fbff48-e58f-446b-c087-bb626c12fb68"
      },
      "outputs": [
        {
          "name": "stdout",
          "output_type": "stream",
          "text": [
            "Scop (test sau predictie): predictie\n"
          ]
        }
      ],
      "source": [
        "import pandas as pd\n",
        "import matplotlib.pyplot as plt\n",
        "import numpy as np\n",
        "import scipy.stats as stats\n",
        "from sklearn.preprocessing import LabelEncoder, StandardScaler\n",
        "from sklearn.model_selection import train_test_split\n",
        "from sklearn.ensemble import RandomForestClassifier\n",
        "from sklearn.metrics import accuracy_score, classification_report\n",
        "\n",
        "#citeste fisier train.csv\n",
        "df_train = pd.read_csv('train.csv')\n",
        "\n",
        "#############################################\n",
        " #Pregatirea setului de date de antrenament#\n",
        "#############################################\n",
        "\n",
        "# eliminarea din setul de date de intrare a coloanelor 'PassengerId', 'Name', 'Ticket', 'Cabin'\n",
        "df_train.drop(['PassengerId', 'Name', 'Ticket', 'Cabin'], axis='columns', inplace=True)\n",
        "\n",
        "# completarea valorilor goale pt varsta cu media\n",
        "mean = np.mean(df_train['Age'])\n",
        "df_train['Age'].fillna(mean, inplace = True)\n",
        "\n",
        "# completarea valorilor goale pentru imbarcari cu cea mai intalnita valoare\n",
        "mean = df_train['Embarked'].mode()[0]\n",
        "df_train['Embarked'].fillna(mean, inplace=True)\n",
        "\n",
        "# eliminare outlieri dupa varsta si pret\n",
        "df_train = z_score(df_train)\n",
        "\n",
        "# scrierea in \"filtered_train.csv\" a datelor filtrate\n",
        "df_train.to_csv('filtered_train.csv')\n",
        "\n",
        "# set de date intrare - antrenament\n",
        "X = df_train.drop(columns=['Survived'])\n",
        "\n",
        "# setul de date de iesire - antrenament\n",
        "y = df_train['Survived']\n",
        "\n",
        "# transforma Sex si Embarked in coloane numerice\n",
        "le = LabelEncoder()\n",
        "le.fit(X['Sex'])\n",
        "X.loc[:, 'Sex'] = le.transform(X['Sex'])\n",
        "\n",
        "le = LabelEncoder()\n",
        "le.fit(X['Embarked'])\n",
        "X.loc[:, 'Embarked'] = le.transform(X['Embarked'])\n",
        "\n",
        "# normalizarea valorilor care nu sunt coloane categoriale\n",
        "# scot sex si embarked\n",
        "sex = X['Sex']\n",
        "embarked = X['Embarked']\n",
        "X.drop(['Sex', 'Embarked'], axis='columns', inplace=True)\n",
        "\n",
        "scaler = StandardScaler()\n",
        "X_mat = scaler.fit_transform(X)\n",
        "X = pd.DataFrame(X_mat, columns=X.columns)\n",
        "\n",
        "# adaug sex si embarked\n",
        "X['Sex'] = sex\n",
        "X['Embarked'] = embarked\n",
        "\n",
        "#############################################\n",
        " #Impartirea setului de date pentru testare#\n",
        "                  #sau#\n",
        "    #Predictie pentru competitie Kaggle#\n",
        "#############################################\n",
        "\n",
        "scop = input(\"Scop (test sau predictie): \")\n",
        "if scop == \"test\":\n",
        "  # impartire set de date\n",
        "  X_train, X_test, y_train, y_test = train_test_split(X, y, test_size=0.2, shuffle=False)\n",
        "else:\n",
        "  X_train = X\n",
        "  y_train = y\n",
        "\n",
        "  #############################################\n",
        "  #Pregatirea setului de date de testare#\n",
        "  #############################################\n",
        "\n",
        "  # citeste fisier test.csv\n",
        "  df_test = pd.read_csv('test.csv')\n",
        "\n",
        "  # savlarea coloanei de id\n",
        "  id = df_test['PassengerId']\n",
        "  df_test.drop(['Name', 'Ticket', 'Cabin', 'PassengerId'], axis='columns', inplace=True)\n",
        "\n",
        "  # completarea valorilor goale pt varsta cu media\n",
        "  mean = np.mean(df_test['Age'])\n",
        "  df_test['Age'].fillna(mean, inplace = True)\n",
        "\n",
        "  # completarea valorilor goale pt pret cu media\n",
        "  mean = np.mean(df_test['Fare'])\n",
        "  df_test['Fare'].fillna(mean, inplace = True)\n",
        "\n",
        "  # transforma Sex si Embarked in coloane numerice\n",
        "  le = LabelEncoder()\n",
        "  le.fit(df_test['Sex'])\n",
        "  df_test.loc[:, 'Sex'] = le.transform(df_test['Sex'])\n",
        "\n",
        "  le = LabelEncoder()\n",
        "  le.fit(df_test['Embarked'])\n",
        "  df_test.loc[:, 'Embarked'] = le.transform(df_test['Embarked'])\n",
        "\n",
        "  # normalizarea valorilor care nu sunt coloane categoriale\n",
        "  # scot sex si embarked\n",
        "  sex = df_test['Sex']\n",
        "  embarked = df_test['Embarked']\n",
        "\n",
        "  df_test.drop(['Sex', 'Embarked'], axis='columns', inplace=True)\n",
        "  scaler = StandardScaler()\n",
        "  X_mat = scaler.fit_transform(df_test)\n",
        "  df_test = pd.DataFrame(X_mat, columns=df_test.columns)\n",
        "\n",
        "  # adaug sex si embarked\n",
        "  df_test['Sex'] = sex\n",
        "  df_test['Embarked'] = embarked\n",
        "\n",
        "  X_test = df_test\n",
        "\n",
        "#############################################\n",
        "  #Antrenare si predictie cu Random Forest#\n",
        "#############################################\n",
        "model = RandomForestClassifier()\n",
        "model.fit(X_train, y_train)\n",
        "y_pred = model.predict(X_test)\n",
        "\n",
        "if scop == \"test\":\n",
        "  accuracy = accuracy_score(y_test, y_pred)\n",
        "  print(accuracy)\n",
        "else:\n",
        "  df_out = pd.DataFrame({\n",
        "      'PassengerId': id,\n",
        "      'Survived': y_pred\n",
        "  })\n",
        "  df_out.to_csv('prediction.csv', index=False)"
      ]
    }
  ],
  "metadata": {
    "colab": {
      "provenance": []
    },
    "kernelspec": {
      "display_name": "Python 3",
      "name": "python3"
    },
    "language_info": {
      "name": "python"
    }
  },
  "nbformat": 4,
  "nbformat_minor": 0
}