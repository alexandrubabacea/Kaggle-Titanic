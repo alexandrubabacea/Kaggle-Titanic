{
  "nbformat": 4,
  "nbformat_minor": 0,
  "metadata": {
    "colab": {
      "provenance": []
    },
    "kernelspec": {
      "name": "python3",
      "display_name": "Python 3"
    },
    "language_info": {
      "name": "python"
    }
  },
  "cells": [
    {
      "cell_type": "markdown",
      "source": [
        "**Cerinta 1:** Folositi interquartile range pentru a identifica si elimina outlier-ele. O valoare\n",
        "este considerată outlier dacă este mai mică decât Q1 - 1.5IQR sau mai mare decât Q3 + 1.5IQR,\n",
        "unde Q1 si Q3 sunt primul si al treilea percentile, iar IQR este diferent, a dintre Q3 si Q1. Dacă\n",
        "luăm de exemplu variabila \"age\" din setul de date Titanic, putem calcula Q1 si Q3, apoi IQR.\n",
        "Valorile care sunt în afara intervalului Q1 - 1.5IQR si Q3 + 1.5IQR pot fi considerate outlier-e\n",
        "si eliminate."
      ],
      "metadata": {
        "id": "5_xBAUcUXS8f"
      }
    },
    {
      "cell_type": "code",
      "source": [
        "def iqr(df):\n",
        "  ############################################\n",
        "              # Outlieri varsta #\n",
        "  ############################################\n",
        "\n",
        "  # calculeaza primul percentile\n",
        "  ageQ1 = np.percentile(df['Age'], 25)\n",
        "  # calculeaza al treilea percentile\n",
        "  ageQ3 = np.percentile(df['Age'], 75)\n",
        "  # interquartile range\n",
        "  ageIQR = ageQ3 - ageQ1\n",
        "\n",
        "  # valoarea sub care se afla outlieri\n",
        "  ageMinValue = ageQ1 - 1.5*ageIQR\n",
        "  # valoarea peste care se afla outlieri\n",
        "  ageMaxValue = ageQ3 + 1.5*ageIQR\n",
        "\n",
        "  # eliminare outlieri\n",
        "  df_age_iqr = df[(df['Age'] >= ageMinValue) & (df['Age'] <= ageMaxValue)]\n",
        "\n",
        "  df_age_iqr.reset_index(drop=True, inplace=True)\n",
        "\n",
        "  ############################################\n",
        "              # Outlieri pret #\n",
        "  ############################################\n",
        "\n",
        "  # calculeaza primul percentile\n",
        "  fareQ1 = np.percentile(df['Fare'], 25)\n",
        "  # calculeaza al treilea percentile\n",
        "  fareQ3 = np.percentile(df['Fare'], 75)\n",
        "  # interquartile range\n",
        "  fareIQR = fareQ3 - fareQ1\n",
        "\n",
        "  # valoarea sub care se afla outlieri\n",
        "  fareMinValue = fareQ1 - 1.5*fareIQR\n",
        "  # valoarea peste care se afla outlieri\n",
        "  fareMaxValue = fareQ3 + 1.5*fareIQR\n",
        "\n",
        "  # eliminare outlieri\n",
        "  df_fare_iqr = df_age_iqr[(df_age_iqr['Fare'] >= fareMinValue) & (df_age_iqr['Fare'] <= fareMaxValue)]\n",
        "\n",
        "  df_fare_iqr.reset_index(drop=True, inplace=True)\n",
        "\n",
        "  return df_fare_iqr"
      ],
      "metadata": {
        "id": "RV1mg4JGcMbu"
      },
      "execution_count": 220,
      "outputs": []
    },
    {
      "cell_type": "markdown",
      "source": [
        "**Cerinta 2:** Calculati Z-score pentru fiecare observatie si eliminati valorile care au un Z-score\n",
        "absolut mai mare decât un anumit prag (de exemplu, 3 sau 4). Z-score reprezintă numărul de\n",
        "deviatii standard fata de media setului de date. Pentru aceeasi variabilă \"age\", putem calcula Z-score pentru fiecare vârstă si să eliminăm valorile care au un Z-score mai mare de, să zicem, 3. Valorile cu un Z-score mai mare de 3 ar putea fi considerate outlier-e."
      ],
      "metadata": {
        "id": "dE1VXXqXk0Aq"
      }
    },
    {
      "cell_type": "code",
      "source": [
        "def z_score(df):\n",
        "  ############################################\n",
        "              # Outlieri varsta #\n",
        "  ############################################\n",
        "\n",
        "  age_zscores = stats.zscore(df['Age'])\n",
        "\n",
        "  # cel mai asemanator cu iqr este pt 1.9\n",
        "  df_age_zscore = df[abs(age_zscores) <= 1.9]\n",
        "\n",
        "  df_age_zscore.reset_index(drop=True, inplace=True)\n",
        "\n",
        "  ############################################\n",
        "              # Outlieri pret #\n",
        "  ############################################\n",
        "\n",
        "  fare_zscores = stats.zscore(df_age_zscore['Fare'])\n",
        "\n",
        "  # cel mai asemanator cu iqr este pt 0.7\n",
        "  df_fare_zscore = df_age_zscore[abs(fare_zscores) <= 0.7]\n",
        "\n",
        "  df_fare_zscore.reset_index(drop=True, inplace=True)\n",
        "\n",
        "  return df_fare_zscore"
      ],
      "metadata": {
        "id": "LLP8ua8qkzjR"
      },
      "execution_count": 221,
      "outputs": []
    },
    {
      "cell_type": "markdown",
      "source": [
        "**Cerinta 4:** Dezvoltarea unui model de clasificare pentru prezicerea sanselor de supraviet, uire."
      ],
      "metadata": {
        "id": "yh17PiVZn7lD"
      }
    },
    {
      "cell_type": "markdown",
      "source": [
        "Preprocesarea datelor: încărcarea datelor (pandas), înlăturarea valorilor lipsă (ex: medie),\n",
        "convertirea coloanele categorice (ex: Sex, Embarked) în valori numerice, normalizarea caracteristicilor numerice."
      ],
      "metadata": {
        "id": "PL1zOHLJtswF"
      }
    },
    {
      "cell_type": "markdown",
      "source": [
        "Protocolul de testare: Împărtiti setul de date în două componente: 80% pentru antrenare\n",
        "si 20% pentru validare."
      ],
      "metadata": {
        "id": "PXTtm8c8oXR-"
      }
    },
    {
      "cell_type": "markdown",
      "source": [
        "Antrenare model: alegerea unui algoritm (Decision-Tree, Random Forest, etc.), antrenare\n",
        "pe setul de date de antrenament"
      ],
      "metadata": {
        "id": "cNFtlZNLv9Ve"
      }
    },
    {
      "cell_type": "code",
      "source": [
        "import pandas as pd\n",
        "import matplotlib.pyplot as plt\n",
        "import numpy as np\n",
        "import scipy.stats as stats\n",
        "from sklearn.preprocessing import LabelEncoder, StandardScaler\n",
        "from sklearn.model_selection import train_test_split\n",
        "from sklearn.tree import DecisionTreeClassifier\n",
        "from sklearn.ensemble import RandomForestClassifier\n",
        "from sklearn.metrics import accuracy_score, classification_report\n",
        "\n",
        "#citeste fisiere\n",
        "df_train = pd.read_csv('train.csv')\n",
        "df_test = pd.read_csv('test.csv')\n",
        "\n",
        "# eliminarea din setul de date de intrare (train si test) a coloanelor 'PassengerId', 'Name', 'Ticket', 'Cabin'\n",
        "df_train = df_train.drop(['PassengerId', 'Name', 'Ticket', 'Cabin'], axis='columns')\n",
        "\n",
        "#############################################\n",
        "        #Pregatirea setului de date#\n",
        "#############################################\n",
        "\n",
        "#umplerea valorilor goale pt varsta cu media\n",
        "mean = np.mean(df_train['Age'])\n",
        "df_train['Age'].fillna(mean, inplace = True)\n",
        "\n",
        "#umplerea valorilor goale pentru varsta cu cea mai intalnita valoare\n",
        "mean = df_train['Embarked'].mode()[0]\n",
        "df_train['Embarked'].fillna(mean, inplace=True)\n",
        "\n",
        "#eliminare outlieri dupa varsta si pret\n",
        "df_final = z_score(df_train)\n",
        "\n",
        "#scrierea in \"filtered_train.csv\" a datelor filtrate\n",
        "df_final.to_csv('filtered_train.csv')\n",
        "\n",
        "# transforma Sex si Embarked in coloane numerice\n",
        "le = LabelEncoder()\n",
        "le.fit(df_final['Sex'])\n",
        "df_final.loc[:, 'Sex'] = le.transform(df_final['Sex'])\n",
        "\n",
        "le = LabelEncoder()\n",
        "le.fit(df_final['Embarked'])\n",
        "df_final.loc[:, 'Embarked'] = le.transform(df_final['Embarked'])\n",
        "\n",
        "#############################################\n",
        " #Impartirea setului de date pentru testare#\n",
        "#############################################\n",
        "\n",
        "# setul de date de intrare (train si test)\n",
        "X = df_final.drop(columns=['Survived'])\n",
        "\n",
        "# normalizarea valorilor\n",
        "#for col in X:\n",
        "#    max = np.max(df_final[col])\n",
        "#    X.loc[:, col] = X[col] / abs(max)\n",
        "scaler = StandardScaler()\n",
        "X_mat = scaler.fit_transform(X)\n",
        "X = pd.DataFrame(X_mat, columns=X.columns)\n",
        "\n",
        "print(X)\n",
        "\n",
        "# setul de date de iesire (train si test) contine survived\n",
        "y = df_final['Survived']\n",
        "\n",
        "# imparte setul de date\n",
        "X_train, X_test, y_train, y_test = train_test_split(X, y, test_size=0.2, random_state=89, shuffle=True)\n",
        "\n",
        "# antrenare cu decision tree\n",
        "rfc = RandomForestClassifier(random_state=78)\n",
        "rfc.fit(X_train, y_train)\n",
        "\n",
        "y_pred = rfc.predict(X_test)\n",
        "\n",
        "accuracy = accuracy_score(y_test, y_pred)\n",
        "print(accuracy)"
      ],
      "metadata": {
        "colab": {
          "base_uri": "https://localhost:8080/"
        },
        "id": "4wGuKPWlt0YH",
        "outputId": "2d808708-648e-42d7-b673-849a052e1600"
      },
      "execution_count": 251,
      "outputs": [
        {
          "output_type": "stream",
          "name": "stdout",
          "text": [
            "       Pclass       Sex       Age     SibSp     Parch      Fare  Embarked\n",
            "0    0.689692  0.676430 -0.766854  0.774912 -0.381365 -0.728937  0.535880\n",
            "1    0.689692 -1.478351 -0.336705 -0.473459 -0.381365 -0.680205  0.535880\n",
            "2   -2.069077 -1.478351  0.631132  0.774912 -0.381365  2.581200  0.535880\n",
            "3    0.689692  0.676430  0.631132 -0.473459 -0.381365 -0.671181  0.535880\n",
            "4    0.689692  0.676430  0.061089 -0.473459 -0.381365 -0.641704 -0.840980\n",
            "..        ...       ...       ...       ...       ...       ...       ...\n",
            "699 -0.689692  0.676430 -0.229167 -0.473459 -0.381365 -0.313816  0.535880\n",
            "700 -2.069077 -1.478351 -1.089466 -0.473459 -0.381365  0.913497  0.535880\n",
            "701  0.689692 -1.478351  0.061089  0.774912  2.200180  0.440621  0.535880\n",
            "702 -2.069077  0.676430 -0.336705 -0.473459 -0.381365  0.913497 -2.217841\n",
            "703  0.689692  0.676430  0.308520 -0.473459 -0.381365 -0.692840 -0.840980\n",
            "\n",
            "[704 rows x 7 columns]\n",
            "0.7730496453900709\n"
          ]
        }
      ]
    }
  ]
}